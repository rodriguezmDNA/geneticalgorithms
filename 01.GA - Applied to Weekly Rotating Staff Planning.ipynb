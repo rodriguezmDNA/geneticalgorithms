{
 "cells": [
  {
   "cell_type": "markdown",
   "id": "5f0c7e23",
   "metadata": {
    "ExecuteTime": {
     "end_time": "2021-09-05T02:05:26.553977Z",
     "start_time": "2021-09-05T02:05:26.548271Z"
    }
   },
   "source": [
    "## Genetic Algorithm from Scratch - Applied to Weekly Rotating Staff Planning\n",
    "\n",
    "[Source](https://jooskorstanje.com/Genetic-Algorithm-from-scratch.html)"
   ]
  },
  {
   "cell_type": "code",
   "execution_count": 12,
   "id": "e62db78f",
   "metadata": {
    "ExecuteTime": {
     "end_time": "2021-09-05T02:13:50.701305Z",
     "start_time": "2021-09-05T02:13:50.262085Z"
    }
   },
   "outputs": [],
   "source": [
    "import numpy as np\n",
    "import pandas as pd"
   ]
  },
  {
   "cell_type": "code",
   "execution_count": 13,
   "id": "3eee6f8a",
   "metadata": {
    "ExecuteTime": {
     "end_time": "2021-09-05T02:19:42.997799Z",
     "start_time": "2021-09-05T02:19:42.984341Z"
    }
   },
   "outputs": [],
   "source": [
    "staff_planning = [\n",
    "    ## Day 1: each list has all employees available\n",
    "    ## Employee list: ID, Start time, Duration\n",
    "    ## 11 employees (0-10)\n",
    "    ## All start times are at 0\n",
    "    ## All durations are 10h\n",
    "    [[0, 0, 10],[1, 0, 10],[2, 0, 10],[3, 0, 10],[4, 0, 10],[5, 0, 10],[6, 0, 10],[7, 0, 10],[8, 0, 10],[9, 0, 10],[10, 0, 10]],\n",
    "    # Day 2\n",
    "    [[0, 0, 10],[1, 0, 10],[2, 0, 10],[3, 0, 10],[4, 0, 10],[5, 0, 10],[6, 0, 10],[7, 0, 10],[8, 0, 10],[9, 0, 10],[10, 0, 10]],\n",
    "    # Day 3\n",
    "    [[0, 0, 10],[1, 0, 10],[2, 0, 10],[3, 0, 10],[4, 0, 10],[5, 0, 10],[6, 0, 10],[7, 0, 10],[8, 0, 10],[9, 0, 10],[10, 0, 10]],\n",
    "    [[0, 0, 10],[1, 0, 10],[2, 0, 10],[3, 0, 10],[4, 0, 10],[5, 0, 10],[6, 0, 10],[7, 0, 10],[8, 0, 10],[9, 0, 10],[10, 0, 10]],\n",
    "    [[0, 0, 10],[1, 0, 10],[2, 0, 10],[3, 0, 10],[4, 0, 10],[5, 0, 10],[6, 0, 10],[7, 0, 10],[8, 0, 10],[9, 0, 10],[10, 0, 10]]\n",
    "]"
   ]
  },
  {
   "cell_type": "code",
   "execution_count": 14,
   "id": "901fee7f",
   "metadata": {
    "ExecuteTime": {
     "end_time": "2021-09-05T02:39:17.278980Z",
     "start_time": "2021-09-05T02:39:17.272659Z"
    }
   },
   "outputs": [],
   "source": [
    "hourlystaff_needed = np.array([\n",
    "    \n",
    "    ## Optimize for staff needed for each hour\n",
    "    # Based on previos experience\n",
    "    # Day 1: Hourse 0-24\n",
    "    [0, 0, 0, 0, 0, 0, 4, 4, 4, 2, 2, 2, 6, 6, 2, 2, 2, 6, 6, 6, 2, 2, 2, 2],\n",
    "    # Day 2\n",
    "    [0, 0, 0, 0, 0, 0, 4, 4, 4, 2, 2, 2, 6, 6, 2, 2, 2, 6, 6, 6, 2, 2, 2, 2],\n",
    "    # Day 3\n",
    "    [0, 0, 0, 0, 0, 0, 4, 4, 4, 2, 2, 2, 6, 6, 2, 2, 2, 6, 6, 6, 2, 2, 2, 2],\n",
    "    [0, 0, 0, 0, 0, 0, 4, 4, 4, 2, 2, 2, 6, 6, 2, 2, 2, 6, 6, 6, 2, 2, 2, 2],\n",
    "    [0, 0, 0, 0, 0, 0, 4, 4, 4, 2, 2, 2, 6, 6, 2, 2, 2, 6, 6, 6, 2, 2, 2, 2]\n",
    "])\n",
    "    "
   ]
  },
  {
   "cell_type": "code",
   "execution_count": 18,
   "id": "d8bc1192",
   "metadata": {
    "ExecuteTime": {
     "end_time": "2021-09-05T02:41:04.730300Z",
     "start_time": "2021-09-05T02:41:04.724153Z"
    }
   },
   "outputs": [],
   "source": [
    "\"\"\"\n",
    "Employee Present: analyse whether the employee is present yes or no on a given time\n",
    "Based on the employee list of 3 (id, start time, duration)\n",
    "\"\"\"\n",
    "def employee_present(employee, time):\n",
    "    employee_start_time = employee[1]\n",
    "    employee_duration = employee[2]\n",
    "    employee_end_time = employee_start_time + employee_duration\n",
    "    if (time >= employee_start_time) and (time < employee_end_time):\n",
    "        return True\n",
    "    return False"
   ]
  },
  {
   "cell_type": "code",
   "execution_count": 19,
   "id": "89df582d",
   "metadata": {
    "ExecuteTime": {
     "end_time": "2021-09-05T02:41:12.523955Z",
     "start_time": "2021-09-05T02:41:12.516864Z"
    }
   },
   "outputs": [],
   "source": [
    "\"\"\"\n",
    "convert a staff planning to a staff-needed plannig\n",
    "The employee planning is organised per employee, the staff-needed planning is the number of employees working per hour\n",
    "The staff-needed planning is based on the employee planning and will allow to calculate the difference with the staff-needed\n",
    "It doesnt work overnight, but our shop isnt open at night anyway\n",
    "\"\"\"\n",
    "def staffplanning_to_hourlyplanning(staff_planning):\n",
    "    \n",
    "    hourlystaff_week = []\n",
    "    for day in staff_planning:\n",
    "        \n",
    "        hourlystaff_day = [] \n",
    "        for employee in day:\n",
    "            \n",
    "            employee_present_hour = []\n",
    "            for time in range(0, 24):\n",
    "                \n",
    "                employee_present_hour.append(employee_present(employee, time))\n",
    "                \n",
    "            hourlystaff_day.append(employee_present_hour)\n",
    "            \n",
    "        hourlystaff_week.append(hourlystaff_day)\n",
    "        \n",
    "    hourlystaff_week = np.array(hourlystaff_week).sum(axis = 1)  \n",
    "    return hourlystaff_week"
   ]
  },
  {
   "cell_type": "code",
   "execution_count": 20,
   "id": "a9e18730",
   "metadata": {
    "ExecuteTime": {
     "end_time": "2021-09-05T02:41:17.204762Z",
     "start_time": "2021-09-05T02:41:17.200308Z"
    }
   },
   "outputs": [],
   "source": [
    "\"\"\"\n",
    "the cost is calculated as hours understaffed + hours overstaffed\n",
    "\"\"\"\n",
    "def cost(hourlystaff, hourlystaff_needed):\n",
    "    errors = hourlystaff - hourlystaff_needed\n",
    "    overstaff = abs(errors[errors > 0].sum())\n",
    "    understaff = abs(errors[errors < 0].sum())\n",
    "    \n",
    "    overstaff_cost = 1\n",
    "    understaff_cost = 1\n",
    "    \n",
    "    cost = overstaff_cost * overstaff + understaff_cost * understaff\n",
    "    return cost"
   ]
  },
  {
   "cell_type": "code",
   "execution_count": 21,
   "id": "135536ed",
   "metadata": {
    "ExecuteTime": {
     "end_time": "2021-09-05T02:41:22.564128Z",
     "start_time": "2021-09-05T02:41:22.556964Z"
    }
   },
   "outputs": [],
   "source": [
    "\"\"\"\n",
    "generate an entirely random staff planning for a certain number of days\n",
    "start time is random between 0 and 23; duration is random between 0 and 10\n",
    "\"\"\"\n",
    "def generate_random_staff_planning(n_days, n_staff):\n",
    "    period_planning = []\n",
    "    for day in range(n_days):\n",
    "        day_planning = []\n",
    "        for employee_id in range(n_staff):\n",
    "            start_time = np.random.randint(0, 23)\n",
    "            duration = np.random.randint(0, 10)\n",
    "            employee = [employee_id, start_time, duration]\n",
    "            day_planning.append(employee)\n",
    "\n",
    "        period_planning.append(day_planning)\n",
    "            \n",
    "    return period_planning"
   ]
  },
  {
   "cell_type": "code",
   "execution_count": 35,
   "id": "6a1b655d",
   "metadata": {
    "ExecuteTime": {
     "end_time": "2021-09-05T02:42:06.961185Z",
     "start_time": "2021-09-05T02:42:06.955973Z"
    }
   },
   "outputs": [
    {
     "data": {
      "text/plain": [
       "241"
      ]
     },
     "execution_count": 35,
     "metadata": {},
     "output_type": "execute_result"
    }
   ],
   "source": [
    "# An example of the code until here\n",
    "\n",
    "# show the random initialization of the week planning\n",
    "random_staff_planning = generate_random_staff_planning(n_days = 5, n_staff = 11)\n",
    "random_staff_planning\n",
    "\n",
    "# show the cost of this random week planning\n",
    "cost(staffplanning_to_hourlyplanning(random_staff_planning), hourlystaff_needed)"
   ]
  },
  {
   "cell_type": "code",
   "execution_count": 41,
   "id": "d2c223b2",
   "metadata": {
    "ExecuteTime": {
     "end_time": "2021-09-05T02:44:11.263637Z",
     "start_time": "2021-09-05T02:44:11.243287Z"
    }
   },
   "outputs": [],
   "source": [
    "\"\"\"\n",
    "create a parent generation of n parent plannings\n",
    "\"\"\"\n",
    "def create_parent_generation(n_parents, n_days = 7, n_staff = 11):\n",
    "    parents = []\n",
    "    for i in range(n_parents):\n",
    "        parent = generate_random_staff_planning(n_days = n_days, n_staff = n_staff)\n",
    "        parents.append(parent)\n",
    "    return parents\n",
    "\n",
    "\"\"\"\"\n",
    "for each iteration, select randomly two parents and make a random combination of those two parents\n",
    "by applying a randomly generated yes/no mask to the two selected parents\n",
    "\"\"\"\n",
    "def random_combine(parents, n_offspring):\n",
    "    n_parents = len(parents)\n",
    "    n_periods = len(parents[0])\n",
    "    n_employees = len(parents[0][0])\n",
    "    \n",
    "    offspring = []\n",
    "    for i in range(n_offspring):\n",
    "        random_dad = parents[np.random.randint(low = 0, high = n_parents - 1)]\n",
    "        random_mom = parents[np.random.randint(low = 0, high = n_parents - 1)]\n",
    "        \n",
    "        dad_mask = np.random.randint(0, 2, size = np.array(random_dad).shape)\n",
    "        mom_mask = np.logical_not(dad_mask)\n",
    "        \n",
    "        child = np.add(np.multiply(random_dad, dad_mask), np.multiply(random_mom, mom_mask))\n",
    "\n",
    "        offspring.append(child)\n",
    "    return offspring\n",
    "\n",
    "\n",
    "def mutate_parent(parent, n_mutations):\n",
    "    size1 = parent.shape[0]\n",
    "    size2 = parent.shape[1]\n",
    "    \n",
    "    for i in range(n_mutations):\n",
    "\n",
    "        rand1 = np.random.randint(0, size1)\n",
    "        rand2 = np.random.randint(0, size2)\n",
    "        rand3 = np.random.randint(1, 2)\n",
    "\n",
    "        parent[rand1,rand2,rand3] = np.random.randint(0, 10)\n",
    "\n",
    "    return parent\n",
    "\n",
    "def mutate_gen(parent_gen, n_mutations):\n",
    "    mutated_parent_gen = []\n",
    "    for parent in parent_gen:\n",
    "        mutated_parent_gen.append(mutate_parent(parent, n_mutations))\n",
    "    return mutated_parent_gen\n",
    "\n",
    "\n",
    "def is_acceptable(parent):\n",
    "    return np.logical_not((np.array(parent)[:,:,2:] > 10).any()) #work more than 10 hours is not ok\n",
    "\n",
    "def select_acceptable(parent_gen):\n",
    "    parent_gen = [parent for parent in parent_gen if is_acceptable(parent)]\n",
    "    return parent_gen\n",
    "\n",
    "def select_best(parent_gen, hourlystaff_needed, n_best):\n",
    "    costs = []\n",
    "    for idx, parent_staff_planning in enumerate(parent_gen):\n",
    "        \n",
    "        parent_hourly_planning = staffplanning_to_hourlyplanning(parent_staff_planning)\n",
    "        parent_cost = cost(parent_hourly_planning, hourlystaff_needed)\n",
    "        costs.append([idx, parent_cost])\n",
    "    \n",
    "    print('generations best is: {}, generations worst is: {}'.format(pd.DataFrame(costs)[1].min(), pd.DataFrame(costs)[1].max()))\n",
    "    \n",
    "    costs_tmp = pd.DataFrame(costs).sort_values(by = 1, ascending = True).reset_index(drop=True)\n",
    "    selected_parents_idx = list(costs_tmp.iloc[:n_best,0])\n",
    "    selected_parents = [parent for idx, parent in enumerate(parent_gen) if idx in selected_parents_idx]\n",
    "    \n",
    "    return selected_parents\n",
    "\n",
    "\"\"\"\n",
    "the overall function\n",
    "\"\"\"\n",
    "def gen_algo(hourlystaff_needed, n_iterations):   \n",
    "    \n",
    "    generation_size = 500\n",
    "    \n",
    "    parent_gen = create_parent_generation(n_parents = generation_size, n_days = 5, n_staff = 11)\n",
    "    for it in range(n_iterations):\n",
    "        parent_gen = select_acceptable(parent_gen)\n",
    "        parent_gen = select_best(parent_gen, hourlystaff_needed, n_best = 100)\n",
    "        parent_gen = random_combine(parent_gen, n_offspring = generation_size)\n",
    "        parent_gen = mutate_gen(parent_gen, n_mutations = 1)\n",
    "    \n",
    "    best_child = select_best(parent_gen, hourlystaff_needed, n_best = 1)\n",
    "    return best_child"
   ]
  },
  {
   "cell_type": "code",
   "execution_count": 42,
   "id": "46fc726f",
   "metadata": {
    "ExecuteTime": {
     "end_time": "2021-09-05T02:45:04.767455Z",
     "start_time": "2021-09-05T02:44:19.954622Z"
    }
   },
   "outputs": [
    {
     "name": "stdout",
     "output_type": "stream",
     "text": [
      "generations best is: 168, generations worst is: 260\n",
      "generations best is: 163, generations worst is: 245\n",
      "generations best is: 152, generations worst is: 232\n",
      "generations best is: 151, generations worst is: 225\n",
      "generations best is: 140, generations worst is: 214\n",
      "generations best is: 140, generations worst is: 218\n",
      "generations best is: 127, generations worst is: 213\n",
      "generations best is: 129, generations worst is: 198\n",
      "generations best is: 121, generations worst is: 203\n",
      "generations best is: 128, generations worst is: 195\n",
      "generations best is: 115, generations worst is: 200\n",
      "generations best is: 118, generations worst is: 189\n",
      "generations best is: 112, generations worst is: 184\n",
      "generations best is: 108, generations worst is: 181\n",
      "generations best is: 100, generations worst is: 173\n",
      "generations best is: 104, generations worst is: 182\n",
      "generations best is: 105, generations worst is: 170\n",
      "generations best is: 101, generations worst is: 163\n",
      "generations best is: 98, generations worst is: 174\n",
      "generations best is: 96, generations worst is: 169\n",
      "generations best is: 95, generations worst is: 169\n",
      "generations best is: 92, generations worst is: 164\n",
      "generations best is: 90, generations worst is: 156\n",
      "generations best is: 86, generations worst is: 164\n",
      "generations best is: 86, generations worst is: 171\n",
      "generations best is: 86, generations worst is: 152\n",
      "generations best is: 74, generations worst is: 154\n",
      "generations best is: 76, generations worst is: 156\n",
      "generations best is: 77, generations worst is: 144\n",
      "generations best is: 77, generations worst is: 137\n",
      "generations best is: 68, generations worst is: 136\n",
      "generations best is: 73, generations worst is: 136\n",
      "generations best is: 67, generations worst is: 129\n",
      "generations best is: 67, generations worst is: 126\n",
      "generations best is: 70, generations worst is: 124\n",
      "generations best is: 63, generations worst is: 129\n",
      "generations best is: 65, generations worst is: 122\n",
      "generations best is: 63, generations worst is: 128\n",
      "generations best is: 62, generations worst is: 121\n",
      "generations best is: 54, generations worst is: 115\n",
      "generations best is: 54, generations worst is: 106\n",
      "generations best is: 58, generations worst is: 105\n",
      "generations best is: 50, generations worst is: 106\n",
      "generations best is: 52, generations worst is: 111\n",
      "generations best is: 52, generations worst is: 106\n",
      "generations best is: 50, generations worst is: 103\n",
      "generations best is: 49, generations worst is: 97\n",
      "generations best is: 49, generations worst is: 100\n",
      "generations best is: 41, generations worst is: 91\n",
      "generations best is: 43, generations worst is: 84\n",
      "generations best is: 43, generations worst is: 86\n",
      "generations best is: 39, generations worst is: 83\n",
      "generations best is: 39, generations worst is: 84\n",
      "generations best is: 40, generations worst is: 81\n",
      "generations best is: 37, generations worst is: 82\n",
      "generations best is: 38, generations worst is: 73\n",
      "generations best is: 35, generations worst is: 75\n",
      "generations best is: 36, generations worst is: 68\n",
      "generations best is: 34, generations worst is: 66\n",
      "generations best is: 34, generations worst is: 74\n",
      "generations best is: 33, generations worst is: 62\n",
      "generations best is: 35, generations worst is: 61\n",
      "generations best is: 33, generations worst is: 62\n",
      "generations best is: 34, generations worst is: 63\n",
      "generations best is: 33, generations worst is: 63\n",
      "generations best is: 33, generations worst is: 61\n",
      "generations best is: 34, generations worst is: 61\n",
      "generations best is: 33, generations worst is: 60\n",
      "generations best is: 32, generations worst is: 58\n",
      "generations best is: 32, generations worst is: 60\n",
      "generations best is: 32, generations worst is: 58\n",
      "generations best is: 33, generations worst is: 60\n",
      "generations best is: 34, generations worst is: 62\n",
      "generations best is: 33, generations worst is: 60\n",
      "generations best is: 34, generations worst is: 60\n",
      "generations best is: 33, generations worst is: 62\n",
      "generations best is: 33, generations worst is: 62\n",
      "generations best is: 32, generations worst is: 58\n",
      "generations best is: 33, generations worst is: 58\n",
      "generations best is: 33, generations worst is: 59\n",
      "generations best is: 33, generations worst is: 60\n",
      "generations best is: 33, generations worst is: 57\n",
      "generations best is: 33, generations worst is: 58\n",
      "generations best is: 33, generations worst is: 58\n",
      "generations best is: 33, generations worst is: 59\n",
      "generations best is: 33, generations worst is: 58\n",
      "generations best is: 32, generations worst is: 61\n",
      "generations best is: 33, generations worst is: 58\n",
      "generations best is: 33, generations worst is: 60\n",
      "generations best is: 32, generations worst is: 56\n",
      "generations best is: 33, generations worst is: 60\n",
      "generations best is: 32, generations worst is: 64\n",
      "generations best is: 33, generations worst is: 57\n",
      "generations best is: 33, generations worst is: 57\n",
      "generations best is: 33, generations worst is: 59\n",
      "generations best is: 33, generations worst is: 57\n",
      "generations best is: 33, generations worst is: 58\n",
      "generations best is: 32, generations worst is: 60\n",
      "generations best is: 33, generations worst is: 57\n",
      "generations best is: 33, generations worst is: 57\n",
      "generations best is: 33, generations worst is: 59\n"
     ]
    }
   ],
   "source": [
    "best_planning = gen_algo(hourlystaff_needed, n_iterations = 100)"
   ]
  },
  {
   "cell_type": "code",
   "execution_count": 43,
   "id": "9356553b",
   "metadata": {
    "ExecuteTime": {
     "end_time": "2021-09-05T02:45:19.814602Z",
     "start_time": "2021-09-05T02:45:19.808707Z"
    }
   },
   "outputs": [
    {
     "name": "stdout",
     "output_type": "stream",
     "text": [
      "[array([[[ 0,  6,  8],\n",
      "        [ 1, 12,  8],\n",
      "        [ 2, 12,  8],\n",
      "        [ 3, 17,  8],\n",
      "        [ 4, 17,  3],\n",
      "        [ 5,  6,  9],\n",
      "        [ 6,  6,  3],\n",
      "        [ 7, 11,  3],\n",
      "        [ 8,  6,  3],\n",
      "        [ 9, 17,  8],\n",
      "        [10, 17,  3]],\n",
      "\n",
      "       [[ 0,  6,  2],\n",
      "        [ 1, 12,  8],\n",
      "        [ 2, 17,  2],\n",
      "        [ 3,  6,  3],\n",
      "        [ 4, 18,  7],\n",
      "        [ 5, 17,  3],\n",
      "        [ 6,  5,  9],\n",
      "        [ 7, 17,  8],\n",
      "        [ 8, 17,  3],\n",
      "        [ 9,  6,  9],\n",
      "        [10, 13,  7]],\n",
      "\n",
      "       [[ 0,  6,  9],\n",
      "        [ 1,  6,  3],\n",
      "        [ 2, 16,  8],\n",
      "        [ 3, 17,  3],\n",
      "        [ 4, 12,  3],\n",
      "        [ 5,  8,  6],\n",
      "        [ 6, 12,  8],\n",
      "        [ 7, 17,  8],\n",
      "        [ 8, 17,  3],\n",
      "        [ 9, 13,  7],\n",
      "        [10,  6,  3]],\n",
      "\n",
      "       [[ 0, 12,  9],\n",
      "        [ 1, 12,  7],\n",
      "        [ 2,  7,  7],\n",
      "        [ 3, 17,  3],\n",
      "        [ 4, 17,  7],\n",
      "        [ 5, 16,  4],\n",
      "        [ 6, 17,  9],\n",
      "        [ 7,  6,  3],\n",
      "        [ 8,  6,  3],\n",
      "        [ 9,  6,  8],\n",
      "        [10,  3,  0]],\n",
      "\n",
      "       [[ 0,  6,  3],\n",
      "        [ 1, 12,  2],\n",
      "        [ 2, 17,  2],\n",
      "        [ 3, 17,  8],\n",
      "        [ 4, 12,  8],\n",
      "        [ 5,  6,  8],\n",
      "        [ 6,  6,  8],\n",
      "        [ 7, 17,  8],\n",
      "        [ 8, 12,  8],\n",
      "        [ 9, 17,  3],\n",
      "        [10,  6,  2]]])]\n"
     ]
    }
   ],
   "source": [
    "print(best_planning)"
   ]
  },
  {
   "cell_type": "code",
   "execution_count": 44,
   "id": "9d91b7c4",
   "metadata": {
    "ExecuteTime": {
     "end_time": "2021-09-05T02:45:47.200906Z",
     "start_time": "2021-09-05T02:45:47.192710Z"
    }
   },
   "outputs": [
    {
     "name": "stdout",
     "output_type": "stream",
     "text": [
      "[[0 0 0 0 0 0 4 4 4 2 2 3 5 5 3 2 2 6 6 6 2 2 2 2]\n",
      " [0 0 0 0 0 1 4 4 3 2 2 2 3 4 3 2 2 6 7 6 2 2 2 2]\n",
      " [0 0 0 0 0 0 3 3 4 2 2 2 4 5 4 2 3 6 6 6 2 2 2 2]\n",
      " [0 0 0 0 0 0 3 4 4 2 2 2 4 4 2 2 3 6 6 5 3 2 2 2]\n",
      " [0 0 0 0 0 0 4 4 3 2 2 2 5 5 2 2 2 6 6 5 2 2 2 2]]\n"
     ]
    }
   ],
   "source": [
    "print(staffplanning_to_hourlyplanning(best_planning[0]))"
   ]
  },
  {
   "cell_type": "code",
   "execution_count": 52,
   "id": "839eeeee",
   "metadata": {
    "ExecuteTime": {
     "end_time": "2021-09-05T02:46:49.601888Z",
     "start_time": "2021-09-05T02:46:49.594047Z"
    }
   },
   "outputs": [
    {
     "data": {
      "text/plain": [
       "array([[[ 0,  6,  8],\n",
       "        [ 1, 12,  8],\n",
       "        [ 2, 12,  8],\n",
       "        [ 3, 17,  8],\n",
       "        [ 4, 17,  3],\n",
       "        [ 5,  6,  9],\n",
       "        [ 6,  6,  3],\n",
       "        [ 7, 11,  3],\n",
       "        [ 8,  6,  3],\n",
       "        [ 9, 17,  8],\n",
       "        [10, 17,  3]],\n",
       "\n",
       "       [[ 0,  6,  2],\n",
       "        [ 1, 12,  8],\n",
       "        [ 2, 17,  2],\n",
       "        [ 3,  6,  3],\n",
       "        [ 4, 18,  7],\n",
       "        [ 5, 17,  3],\n",
       "        [ 6,  5,  9],\n",
       "        [ 7, 17,  8],\n",
       "        [ 8, 17,  3],\n",
       "        [ 9,  6,  9],\n",
       "        [10, 13,  7]],\n",
       "\n",
       "       [[ 0,  6,  9],\n",
       "        [ 1,  6,  3],\n",
       "        [ 2, 16,  8],\n",
       "        [ 3, 17,  3],\n",
       "        [ 4, 12,  3],\n",
       "        [ 5,  8,  6],\n",
       "        [ 6, 12,  8],\n",
       "        [ 7, 17,  8],\n",
       "        [ 8, 17,  3],\n",
       "        [ 9, 13,  7],\n",
       "        [10,  6,  3]],\n",
       "\n",
       "       [[ 0, 12,  9],\n",
       "        [ 1, 12,  7],\n",
       "        [ 2,  7,  7],\n",
       "        [ 3, 17,  3],\n",
       "        [ 4, 17,  7],\n",
       "        [ 5, 16,  4],\n",
       "        [ 6, 17,  9],\n",
       "        [ 7,  6,  3],\n",
       "        [ 8,  6,  3],\n",
       "        [ 9,  6,  8],\n",
       "        [10,  3,  0]],\n",
       "\n",
       "       [[ 0,  6,  3],\n",
       "        [ 1, 12,  2],\n",
       "        [ 2, 17,  2],\n",
       "        [ 3, 17,  8],\n",
       "        [ 4, 12,  8],\n",
       "        [ 5,  6,  8],\n",
       "        [ 6,  6,  8],\n",
       "        [ 7, 17,  8],\n",
       "        [ 8, 12,  8],\n",
       "        [ 9, 17,  3],\n",
       "        [10,  6,  2]]])"
      ]
     },
     "execution_count": 52,
     "metadata": {},
     "output_type": "execute_result"
    }
   ],
   "source": [
    "best_planning[0]"
   ]
  },
  {
   "cell_type": "code",
   "execution_count": 49,
   "id": "829521bf",
   "metadata": {
    "ExecuteTime": {
     "end_time": "2021-09-05T02:46:11.137955Z",
     "start_time": "2021-09-05T02:46:11.129322Z"
    }
   },
   "outputs": [
    {
     "data": {
      "text/plain": [
       "array([0, 0, 0, 0, 0, 0, 4, 4, 4, 2, 2, 3, 5, 5, 3, 2, 2, 6, 6, 6, 2, 2,\n",
       "       2, 2])"
      ]
     },
     "execution_count": 49,
     "metadata": {},
     "output_type": "execute_result"
    }
   ],
   "source": [
    "(staffplanning_to_hourlyplanning(best_planning[0])[0])"
   ]
  },
  {
   "cell_type": "code",
   "execution_count": 50,
   "id": "1884a5c8",
   "metadata": {
    "ExecuteTime": {
     "end_time": "2021-09-05T02:46:20.787725Z",
     "start_time": "2021-09-05T02:46:20.782083Z"
    }
   },
   "outputs": [
    {
     "data": {
      "text/plain": [
       "array([0, 0, 0, 0, 0, 0, 4, 4, 4, 2, 2, 2, 6, 6, 2, 2, 2, 6, 6, 6, 2, 2,\n",
       "       2, 2])"
      ]
     },
     "execution_count": 50,
     "metadata": {},
     "output_type": "execute_result"
    }
   ],
   "source": [
    "hourlystaff_needed[0]"
   ]
  },
  {
   "cell_type": "code",
   "execution_count": null,
   "id": "cd86c198",
   "metadata": {},
   "outputs": [],
   "source": []
  }
 ],
 "metadata": {
  "kernelspec": {
   "display_name": "Python 3 (ipykernel)",
   "language": "python",
   "name": "python3"
  },
  "language_info": {
   "codemirror_mode": {
    "name": "ipython",
    "version": 3
   },
   "file_extension": ".py",
   "mimetype": "text/x-python",
   "name": "python",
   "nbconvert_exporter": "python",
   "pygments_lexer": "ipython3",
   "version": "3.9.5"
  },
  "varInspector": {
   "cols": {
    "lenName": 16,
    "lenType": 16,
    "lenVar": 40
   },
   "kernels_config": {
    "python": {
     "delete_cmd_postfix": "",
     "delete_cmd_prefix": "del ",
     "library": "var_list.py",
     "varRefreshCmd": "print(var_dic_list())"
    },
    "r": {
     "delete_cmd_postfix": ") ",
     "delete_cmd_prefix": "rm(",
     "library": "var_list.r",
     "varRefreshCmd": "cat(var_dic_list()) "
    }
   },
   "types_to_exclude": [
    "module",
    "function",
    "builtin_function_or_method",
    "instance",
    "_Feature"
   ],
   "window_display": false
  }
 },
 "nbformat": 4,
 "nbformat_minor": 5
}
