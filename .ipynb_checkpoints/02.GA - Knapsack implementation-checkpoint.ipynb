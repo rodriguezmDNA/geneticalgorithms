{
 "cells": [
  {
   "cell_type": "markdown",
   "id": "f6c3fe63",
   "metadata": {
    "ExecuteTime": {
     "end_time": "2021-09-06T21:16:36.243509Z",
     "start_time": "2021-09-06T21:16:36.237826Z"
    }
   },
   "source": [
    "## The Knapsack Problem & Genetic Algorithms - Computerphile\n",
    "[Source](https://www.youtube.com/watch?v=MacVqujSXWE)"
   ]
  },
  {
   "cell_type": "markdown",
   "id": "0a9db15e",
   "metadata": {},
   "source": [
    "### Maximize profit without going over weight limit"
   ]
  },
  {
   "cell_type": "code",
   "execution_count": 1,
   "id": "2a865abc",
   "metadata": {
    "ExecuteTime": {
     "end_time": "2021-09-07T04:29:39.554628Z",
     "start_time": "2021-09-07T04:29:39.354041Z"
    }
   },
   "outputs": [],
   "source": [
    "import random\n",
    "import pandas as pd"
   ]
  },
  {
   "cell_type": "code",
   "execution_count": 22,
   "id": "10cd998c",
   "metadata": {
    "ExecuteTime": {
     "end_time": "2021-09-07T04:34:23.520009Z",
     "start_time": "2021-09-07T04:34:23.497890Z"
    }
   },
   "outputs": [],
   "source": [
    "def getWeightOfChoices(seq,w):\n",
    "    allweights = [a * b for a, b in zip(seq, w)]\n",
    "    return allweights, sum(allweights)\n",
    "\n",
    "def getProfitOfChoices(seq,p):\n",
    "    allprofits = [a * b for a, b in zip(seq, p)]\n",
    "    return allprofits,sum(allprofits)\n",
    "\n",
    "ranPick = lambda: random.sample([0,1],1)[0]\n",
    "\n",
    "def makePopulation(popsize,nBits):\n",
    "    return [[ranPick() for _ in range(nBits)] for p in range(popsize)]\n",
    "\n",
    "def getFitness(comb,w,p,maxW):\n",
    "    _,totalprofit =  getProfitOfChoices(comb,p)\n",
    "    _,totalweight =  getWeightOfChoices(comb,w)\n",
    "    if totalweight>maxW:\n",
    "        totalprofit = 0\n",
    "    return totalprofit,totalweight\n",
    "\n",
    "def fitnessOfPopulation(population,w,p,maxW):\n",
    "    fitnessXpopulation = [getFitness(ind,w,p,maxW) for ind in population]\n",
    "    fitnessDF = pd.DataFrame(fitnessXpopulation,columns=['score','weight'])\n",
    "    fitnessDF['solution'] = population\n",
    "    return fitnessDF, fitnessDF.score.mean(),fitnessDF.weight.mean()\n",
    "\n",
    "def selectParents(population):\n",
    "    '''\n",
    "    Select 2 pairs of parents at random\n",
    "    '''\n",
    "    population_copy = population.copy()\n",
    "    random.shuffle(population_copy)\n",
    "    a = population_copy.pop()\n",
    "    random.shuffle(population_copy)\n",
    "    b = population_copy.pop()\n",
    "    random.shuffle(population_copy)\n",
    "    x = population_copy.pop()\n",
    "    random.shuffle(population_copy)\n",
    "    y = population_copy.pop()\n",
    "    return a,b,x,y\n",
    "\n",
    "def getWiningParents(a,b,x,y,w,p,maxW):\n",
    "    a_score,b_score,x_score,y_score = [getFitness(_,w,p,maxW)[0] for _ in [a,b,x,y]]\n",
    "    ###\n",
    "    winnerA =  a if a_score > b_score else b\n",
    "    winnerX =  x if x_score > y_score else y\n",
    "    return winnerA,winnerX    \n",
    "\n",
    "def recombine(winnerA,winnerX,point=None):\n",
    "    if point == None:\n",
    "        point=int(len(winnerA)/2)\n",
    "    offspringA = winnerA[:point]+winnerX[point:]\n",
    "    offspringB = winnerX[:point]+winnerA[point:]\n",
    "    return offspringA,offspringB\n",
    "\n",
    "tosscoin = lambda: random.uniform(0,1)\n",
    "mutationrate = .05\n",
    "def flipbit(bit):\n",
    "    return 1 if bit==0 else 0\n",
    "\n",
    "def mutationProcess(bit):\n",
    "    if tosscoin() <= mutationrate:\n",
    "        return flipbit(bit)\n",
    "    else:\n",
    "        return bit\n",
    "    \n",
    "mutateOffspring = lambda child: [mutationProcess(_) for _ in child]    \n",
    "\n",
    "def mutateChildren(A,B):\n",
    "    childANew = mutateOffspring(A)\n",
    "    childBNew = mutateOffspring(B)\n",
    "    return childANew,childBNew\n",
    "\n",
    "\n",
    "def getOffspring(population,w,p,maxW):\n",
    "    a,b,x,y = selectParents(population)\n",
    "    winnerA,winnerX  = getWiningParents(a,b,x,y,w,p,maxW)\n",
    "    offspringA,offspringB = recombine(winnerA,winnerX)\n",
    "    childANew,childBNew = mutateChildren(offspringA,offspringB)\n",
    "    return childANew,childBNew\n",
    "\n",
    "def getNewGeneration(population,w,p,maxW):\n",
    "    newgen = []\n",
    "    while len(newgen) < popsize:\n",
    "        childANew,childBNew = getOffspring(population,w,p,maxW)\n",
    "        newgen.append([childANew,childBNew])\n",
    "    newgen = sum(newgen,[])\n",
    "    return newgen"
   ]
  },
  {
   "cell_type": "code",
   "execution_count": 23,
   "id": "7ab0583e",
   "metadata": {
    "ExecuteTime": {
     "end_time": "2021-09-07T04:34:25.804000Z",
     "start_time": "2021-09-07T04:34:25.798884Z"
    }
   },
   "outputs": [],
   "source": [
    "# Define data \n",
    "p = [5, 4, 7, 2] # Profits \n",
    "w = [7, 2, 1, 9] # Weight \n",
    "W = 15 # Knapsack ’s capacity \n",
    "n = len(p) # Number of items"
   ]
  },
  {
   "cell_type": "code",
   "execution_count": 24,
   "id": "8497f136",
   "metadata": {
    "ExecuteTime": {
     "end_time": "2021-09-07T04:34:27.088829Z",
     "start_time": "2021-09-07T04:34:27.084041Z"
    }
   },
   "outputs": [],
   "source": [
    "### Initiate population\n",
    "popsize = 8\n",
    "population = makePopulation(popsize,n)\n",
    "\n",
    "#### Save values\n",
    "popDF = dict()\n",
    "avgWeight = dict()\n",
    "avgFit = dict()\n",
    "\n",
    "#### Get fitness of starting population\n",
    "popDF[0], avgFit[0],avgWeight[0]=fitnessOfPopulation(population,w,p,W) \n",
    "\n",
    "#### Get first generation \n",
    "newpop = getNewGeneration(population,w,p,W)\n",
    "\n",
    "#### Iterate over n generations\n",
    "for gen in range(1,1000):\n",
    "    newpop = getNewGeneration(newpop,w,p,W)\n",
    "    popDF[gen], avgFit[gen],avgWeight[gen]=fitnessOfPopulation(newpop,w,p,W)  \n",
    "    popDF[gen] = popDF[gen].sort_values('score',ascending=False).reset_index(drop=True)"
   ]
  },
  {
   "cell_type": "code",
   "execution_count": 34,
   "id": "b3387ef5",
   "metadata": {
    "ExecuteTime": {
     "end_time": "2021-09-07T04:36:35.789091Z",
     "start_time": "2021-09-07T04:36:35.784533Z"
    }
   },
   "outputs": [
    {
     "data": {
      "text/plain": [
       "12.5"
      ]
     },
     "execution_count": 34,
     "metadata": {},
     "output_type": "execute_result"
    }
   ],
   "source": [
    "avgFit[gen] "
   ]
  },
  {
   "cell_type": "code",
   "execution_count": 33,
   "id": "153e698c",
   "metadata": {
    "ExecuteTime": {
     "end_time": "2021-09-07T04:36:27.967893Z",
     "start_time": "2021-09-07T04:36:27.955470Z"
    }
   },
   "outputs": [
    {
     "data": {
      "text/html": [
       "<div>\n",
       "<style scoped>\n",
       "    .dataframe tbody tr th:only-of-type {\n",
       "        vertical-align: middle;\n",
       "    }\n",
       "\n",
       "    .dataframe tbody tr th {\n",
       "        vertical-align: top;\n",
       "    }\n",
       "\n",
       "    .dataframe thead th {\n",
       "        text-align: right;\n",
       "    }\n",
       "</style>\n",
       "<table border=\"1\" class=\"dataframe\">\n",
       "  <thead>\n",
       "    <tr style=\"text-align: right;\">\n",
       "      <th></th>\n",
       "      <th>score</th>\n",
       "      <th>weight</th>\n",
       "      <th>solution</th>\n",
       "    </tr>\n",
       "  </thead>\n",
       "  <tbody>\n",
       "    <tr>\n",
       "      <th>0</th>\n",
       "      <td>16</td>\n",
       "      <td>10</td>\n",
       "      <td>[1, 1, 1, 0]</td>\n",
       "    </tr>\n",
       "    <tr>\n",
       "      <th>1</th>\n",
       "      <td>16</td>\n",
       "      <td>10</td>\n",
       "      <td>[1, 1, 1, 0]</td>\n",
       "    </tr>\n",
       "    <tr>\n",
       "      <th>2</th>\n",
       "      <td>16</td>\n",
       "      <td>10</td>\n",
       "      <td>[1, 1, 1, 0]</td>\n",
       "    </tr>\n",
       "    <tr>\n",
       "      <th>3</th>\n",
       "      <td>16</td>\n",
       "      <td>10</td>\n",
       "      <td>[1, 1, 1, 0]</td>\n",
       "    </tr>\n",
       "    <tr>\n",
       "      <th>4</th>\n",
       "      <td>16</td>\n",
       "      <td>10</td>\n",
       "      <td>[1, 1, 1, 0]</td>\n",
       "    </tr>\n",
       "  </tbody>\n",
       "</table>\n",
       "</div>"
      ],
      "text/plain": [
       "   score  weight      solution\n",
       "0     16      10  [1, 1, 1, 0]\n",
       "1     16      10  [1, 1, 1, 0]\n",
       "2     16      10  [1, 1, 1, 0]\n",
       "3     16      10  [1, 1, 1, 0]\n",
       "4     16      10  [1, 1, 1, 0]"
      ]
     },
     "execution_count": 33,
     "metadata": {},
     "output_type": "execute_result"
    }
   ],
   "source": [
    "popDF[99].head() #Best solution after n generations"
   ]
  },
  {
   "cell_type": "markdown",
   "id": "8bff4058",
   "metadata": {},
   "source": [
    "### With new data\n",
    "\n",
    "[Source](https://www.dataminingapps.com/2017/03/solving-the-knapsack-problem-with-a-simple-genetic-algorithm/)"
   ]
  },
  {
   "cell_type": "code",
   "execution_count": 37,
   "id": "a89e79ce",
   "metadata": {
    "ExecuteTime": {
     "end_time": "2021-09-07T04:37:15.329489Z",
     "start_time": "2021-09-07T04:37:15.325227Z"
    }
   },
   "outputs": [],
   "source": [
    "popsize = 8\n",
    "population = makePopulation(popsize,7)"
   ]
  },
  {
   "cell_type": "code",
   "execution_count": 40,
   "id": "f3e3929d",
   "metadata": {
    "ExecuteTime": {
     "end_time": "2021-09-07T04:37:54.899481Z",
     "start_time": "2021-09-07T04:37:54.895675Z"
    }
   },
   "outputs": [
    {
     "data": {
      "text/plain": [
       "(15, 9)"
      ]
     },
     "execution_count": 40,
     "metadata": {},
     "output_type": "execute_result"
    }
   ],
   "source": [
    "### Best solution: https://www.dataminingapps.com/2017/03/solving-the-knapsack-problem-with-a-simple-genetic-algorithm/\n",
    "getFitness([1,0,0,1,0,0,0],w,p,W)"
   ]
  },
  {
   "cell_type": "code",
   "execution_count": 39,
   "id": "dcf72e1f",
   "metadata": {
    "ExecuteTime": {
     "end_time": "2021-09-07T04:37:47.365194Z",
     "start_time": "2021-09-07T04:37:47.358853Z"
    }
   },
   "outputs": [],
   "source": [
    "# https://www.dataminingapps.com/2017/03/solving-the-knapsack-problem-with-a-simple-genetic-algorithm/\n",
    "# Define data \n",
    "p = [6, 5, 8, 9, 6, 7, 3] # Profits \n",
    "w = [2, 3, 6, 7, 5, 9, 4]# Weights \n",
    "W = 9 # Knapsack ’s capacity \n",
    "n = len(p) # Number of items"
   ]
  },
  {
   "cell_type": "code",
   "execution_count": 41,
   "id": "5b87953f",
   "metadata": {
    "ExecuteTime": {
     "end_time": "2021-09-07T04:38:20.956830Z",
     "start_time": "2021-09-07T04:38:19.329442Z"
    }
   },
   "outputs": [],
   "source": [
    "#### Save values\n",
    "popDF = dict()\n",
    "avgWeight = dict()\n",
    "avgFit = dict()\n",
    "\n",
    "#### Get fitness of starting population\n",
    "popDF[0], avgFit[0],avgWeight[0]=fitnessOfPopulation(population,w,p,W) \n",
    "\n",
    "#### Get first generation \n",
    "newpop = getNewGeneration(population,w,p,W)\n",
    "\n",
    "#### Iterate over n generations\n",
    "for gen in range(1,1000):\n",
    "    newpop = getNewGeneration(newpop,w,p,W)\n",
    "    popDF[gen], avgFit[gen],avgWeight[gen]=fitnessOfPopulation(newpop,w,p,W)  \n",
    "    popDF[gen] = popDF[gen].sort_values('score',ascending=False).reset_index(drop=True)"
   ]
  },
  {
   "cell_type": "code",
   "execution_count": 42,
   "id": "1a94fed3",
   "metadata": {
    "ExecuteTime": {
     "end_time": "2021-09-07T04:38:29.447139Z",
     "start_time": "2021-09-07T04:38:29.442884Z"
    }
   },
   "outputs": [
    {
     "data": {
      "text/plain": [
       "6.1875"
      ]
     },
     "execution_count": 42,
     "metadata": {},
     "output_type": "execute_result"
    }
   ],
   "source": [
    "avgFit[gen] "
   ]
  },
  {
   "cell_type": "code",
   "execution_count": 43,
   "id": "250e34e6",
   "metadata": {
    "ExecuteTime": {
     "end_time": "2021-09-07T04:38:37.665104Z",
     "start_time": "2021-09-07T04:38:37.655015Z"
    }
   },
   "outputs": [
    {
     "data": {
      "text/html": [
       "<div>\n",
       "<style scoped>\n",
       "    .dataframe tbody tr th:only-of-type {\n",
       "        vertical-align: middle;\n",
       "    }\n",
       "\n",
       "    .dataframe tbody tr th {\n",
       "        vertical-align: top;\n",
       "    }\n",
       "\n",
       "    .dataframe thead th {\n",
       "        text-align: right;\n",
       "    }\n",
       "</style>\n",
       "<table border=\"1\" class=\"dataframe\">\n",
       "  <thead>\n",
       "    <tr style=\"text-align: right;\">\n",
       "      <th></th>\n",
       "      <th>score</th>\n",
       "      <th>weight</th>\n",
       "      <th>solution</th>\n",
       "    </tr>\n",
       "  </thead>\n",
       "  <tbody>\n",
       "    <tr>\n",
       "      <th>0</th>\n",
       "      <td>15</td>\n",
       "      <td>9</td>\n",
       "      <td>[1, 0, 0, 1, 0, 0, 0]</td>\n",
       "    </tr>\n",
       "    <tr>\n",
       "      <th>1</th>\n",
       "      <td>15</td>\n",
       "      <td>9</td>\n",
       "      <td>[1, 0, 0, 1, 0, 0, 0]</td>\n",
       "    </tr>\n",
       "    <tr>\n",
       "      <th>2</th>\n",
       "      <td>15</td>\n",
       "      <td>9</td>\n",
       "      <td>[1, 0, 0, 1, 0, 0, 0]</td>\n",
       "    </tr>\n",
       "    <tr>\n",
       "      <th>3</th>\n",
       "      <td>15</td>\n",
       "      <td>9</td>\n",
       "      <td>[1, 0, 0, 1, 0, 0, 0]</td>\n",
       "    </tr>\n",
       "    <tr>\n",
       "      <th>4</th>\n",
       "      <td>15</td>\n",
       "      <td>9</td>\n",
       "      <td>[1, 0, 0, 1, 0, 0, 0]</td>\n",
       "    </tr>\n",
       "  </tbody>\n",
       "</table>\n",
       "</div>"
      ],
      "text/plain": [
       "   score  weight               solution\n",
       "0     15       9  [1, 0, 0, 1, 0, 0, 0]\n",
       "1     15       9  [1, 0, 0, 1, 0, 0, 0]\n",
       "2     15       9  [1, 0, 0, 1, 0, 0, 0]\n",
       "3     15       9  [1, 0, 0, 1, 0, 0, 0]\n",
       "4     15       9  [1, 0, 0, 1, 0, 0, 0]"
      ]
     },
     "execution_count": 43,
     "metadata": {},
     "output_type": "execute_result"
    }
   ],
   "source": [
    "popDF[99].head() #Best solution after n generations"
   ]
  },
  {
   "cell_type": "code",
   "execution_count": null,
   "id": "27107fce",
   "metadata": {},
   "outputs": [],
   "source": []
  }
 ],
 "metadata": {
  "kernelspec": {
   "display_name": "Python 3 (ipykernel)",
   "language": "python",
   "name": "python3"
  },
  "language_info": {
   "codemirror_mode": {
    "name": "ipython",
    "version": 3
   },
   "file_extension": ".py",
   "mimetype": "text/x-python",
   "name": "python",
   "nbconvert_exporter": "python",
   "pygments_lexer": "ipython3",
   "version": "3.9.5"
  },
  "varInspector": {
   "cols": {
    "lenName": 16,
    "lenType": 16,
    "lenVar": 40
   },
   "kernels_config": {
    "python": {
     "delete_cmd_postfix": "",
     "delete_cmd_prefix": "del ",
     "library": "var_list.py",
     "varRefreshCmd": "print(var_dic_list())"
    },
    "r": {
     "delete_cmd_postfix": ") ",
     "delete_cmd_prefix": "rm(",
     "library": "var_list.r",
     "varRefreshCmd": "cat(var_dic_list()) "
    }
   },
   "types_to_exclude": [
    "module",
    "function",
    "builtin_function_or_method",
    "instance",
    "_Feature"
   ],
   "window_display": false
  }
 },
 "nbformat": 4,
 "nbformat_minor": 5
}
