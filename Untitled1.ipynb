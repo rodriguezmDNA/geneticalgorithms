{
 "cells": [
  {
   "cell_type": "markdown",
   "id": "7e4e1f99",
   "metadata": {},
   "source": [
    "### Step by step"
   ]
  },
  {
   "cell_type": "code",
   "execution_count": 1,
   "id": "00c3f49f",
   "metadata": {
    "ExecuteTime": {
     "end_time": "2021-09-09T01:37:32.375418Z",
     "start_time": "2021-09-09T01:37:31.910333Z"
    }
   },
   "outputs": [],
   "source": [
    "import random\n",
    "import pandas as pd"
   ]
  },
  {
   "cell_type": "code",
   "execution_count": 2,
   "id": "c29e644b",
   "metadata": {
    "ExecuteTime": {
     "end_time": "2021-09-09T01:37:37.507803Z",
     "start_time": "2021-09-09T01:37:37.490998Z"
    }
   },
   "outputs": [],
   "source": [
    "def getWeightOfChoices(seq,w):\n",
    "    allweights = [a * b for a, b in zip(seq, w)]\n",
    "    return allweights, sum(allweights)\n",
    "\n",
    "def getProfitOfChoices(seq,p):\n",
    "    allprofits = [a * b for a, b in zip(seq, p)]\n",
    "    return allprofits,sum(allprofits)\n",
    "\n",
    "ranPick = lambda: random.sample([0,1],1)[0]\n",
    "\n",
    "def makePopulation(popsize,nBits):\n",
    "    return [[ranPick() for _ in range(nBits)] for p in range(popsize)]\n",
    "\n",
    "def getFitness(comb,w,p,maxW):\n",
    "    _,totalprofit =  getProfitOfChoices(comb,p)\n",
    "    _,totalweight =  getWeightOfChoices(comb,w)\n",
    "    if totalweight>maxW:\n",
    "        totalprofit = 0\n",
    "    return totalprofit,totalweight\n",
    "\n",
    "def fitnessOfPopulation(population,w,p,maxW):\n",
    "    fitnessXpopulation = [getFitness(ind,w,p,maxW) for ind in population]\n",
    "    fitnessDF = pd.DataFrame(fitnessXpopulation,columns=['score','weight'])\n",
    "    fitnessDF['solution'] = population\n",
    "    return fitnessDF, fitnessDF.score.mean(),fitnessDF.weight.mean()\n",
    "\n",
    "def selectParents(population):\n",
    "    '''\n",
    "    Select 2 pairs of parents at random\n",
    "    '''\n",
    "    population_copy = population.copy()\n",
    "    random.shuffle(population_copy)\n",
    "    a = population_copy.pop()\n",
    "    random.shuffle(population_copy)\n",
    "    b = population_copy.pop()\n",
    "    random.shuffle(population_copy)\n",
    "    x = population_copy.pop()\n",
    "    random.shuffle(population_copy)\n",
    "    y = population_copy.pop()\n",
    "    return a,b,x,y\n",
    "\n",
    "def getWiningParents(a,b,x,y,w,p,maxW):\n",
    "    a_score,b_score,x_score,y_score = [getFitness(_,w,p,maxW)[0] for _ in [a,b,x,y]]\n",
    "    ###\n",
    "    winnerA =  a if a_score > b_score else b\n",
    "    winnerX =  x if x_score > y_score else y\n",
    "    return winnerA,winnerX    \n",
    "\n",
    "def recombine(winnerA,winnerX,point=None):\n",
    "    if point == None:\n",
    "        point=int(len(winnerA)/2)\n",
    "    offspringA = winnerA[:point]+winnerX[point:]\n",
    "    offspringB = winnerX[:point]+winnerA[point:]\n",
    "    return offspringA,offspringB\n",
    "\n",
    "tosscoin = lambda: random.uniform(0,1)\n",
    "mutationrate = .05\n",
    "def flipbit(bit):\n",
    "    return 1 if bit==0 else 0\n",
    "\n",
    "def mutationProcess(bit):\n",
    "    if tosscoin() <= mutationrate:\n",
    "        return flipbit(bit)\n",
    "    else:\n",
    "        return bit\n",
    "    \n",
    "mutateOffspring = lambda child: [mutationProcess(_) for _ in child]    \n",
    "\n",
    "def mutateChildren(A,B):\n",
    "    childANew = mutateOffspring(A)\n",
    "    childBNew = mutateOffspring(B)\n",
    "    return childANew,childBNew\n",
    "\n",
    "\n",
    "def getOffspring(population,w,p,maxW):\n",
    "    a,b,x,y = selectParents(population)\n",
    "    winnerA,winnerX  = getWiningParents(a,b,x,y,w,p,maxW)\n",
    "    offspringA,offspringB = recombine(winnerA,winnerX)\n",
    "    childANew,childBNew = mutateChildren(offspringA,offspringB)\n",
    "    return childANew,childBNew\n",
    "\n",
    "def getNewGeneration(population,w,p,maxW):\n",
    "    newgen = []\n",
    "    while len(newgen) < popsize:\n",
    "        childANew,childBNew = getOffspring(population,w,p,maxW)\n",
    "        newgen.append([childANew,childBNew])\n",
    "    newgen = sum(newgen,[])\n",
    "    return newgen"
   ]
  },
  {
   "cell_type": "markdown",
   "id": "fb4646cd",
   "metadata": {},
   "source": [
    "### Define rules"
   ]
  },
  {
   "cell_type": "code",
   "execution_count": 11,
   "id": "ec0732ca",
   "metadata": {
    "ExecuteTime": {
     "end_time": "2021-09-09T01:40:20.293050Z",
     "start_time": "2021-09-09T01:40:20.290069Z"
    }
   },
   "outputs": [],
   "source": [
    "p = [5, 4, 7, 2] # Value of each item  \n",
    "w = [7, 2, 1, 9] # Weight of each item\n",
    "n = len(p) # Number of items\n",
    "W = 15 # Knapsack ’s capacity: max weight"
   ]
  },
  {
   "cell_type": "markdown",
   "id": "58dc0c03",
   "metadata": {},
   "source": [
    "### Initiate population"
   ]
  },
  {
   "cell_type": "code",
   "execution_count": 10,
   "id": "363ae5f9",
   "metadata": {
    "ExecuteTime": {
     "end_time": "2021-09-09T01:40:08.344486Z",
     "start_time": "2021-09-09T01:40:08.341399Z"
    }
   },
   "outputs": [],
   "source": [
    "popsize = 8\n",
    "### Create a random population of 8, with 4 bits (4 items to put in the knapsack)\n",
    "population = [[ranPick() for _ in range(n)] for p in range(popsize)]"
   ]
  },
  {
   "cell_type": "markdown",
   "id": "dc9aceb5",
   "metadata": {},
   "source": [
    "### Get fitness"
   ]
  },
  {
   "cell_type": "code",
   "execution_count": 28,
   "id": "65710d19",
   "metadata": {
    "ExecuteTime": {
     "end_time": "2021-09-09T01:46:03.336058Z",
     "start_time": "2021-09-09T01:46:03.331675Z"
    }
   },
   "outputs": [
    {
     "name": "stdout",
     "output_type": "stream",
     "text": [
      "total weight: 3\n",
      "total score: 11\n"
     ]
    }
   ],
   "source": [
    "example1 = [0,1,1,0] # the items chosen by an individual at random\n",
    "###\n",
    "example_weights1 = [a * b for a, b in zip(example1, w)]\n",
    "tot_weight1 = sum(example_weights1)\n",
    "print(f'total weight: {tot_weight1}') #Total weight of example\n",
    "##\n",
    "example_score1 = [a * b for a, b in zip(example1, p)]\n",
    "tot_score1 = sum(example_score1)\n",
    "print(f'total score: {tot_score1}') #Total weight of example"
   ]
  },
  {
   "cell_type": "code",
   "execution_count": 37,
   "id": "577e7d52",
   "metadata": {
    "ExecuteTime": {
     "end_time": "2021-09-09T01:48:54.799319Z",
     "start_time": "2021-09-09T01:48:54.794877Z"
    }
   },
   "outputs": [
    {
     "name": "stdout",
     "output_type": "stream",
     "text": [
      "total weight: 19\n",
      "total score: 18\n"
     ]
    }
   ],
   "source": [
    "example2 = [1,1,1,1] # the items chosen by an individual at random\n",
    "###\n",
    "example_weights2 = [a * b for a, b in zip(example2, w)]\n",
    "tot_weight2 = sum(example_weights2)\n",
    "print(f'total weight: {tot_weight2}') #Total weight of example\n",
    "##\n",
    "example_score2 = [a * b for a, b in zip(example2, p)]\n",
    "tot_score2 = sum(example_score2)\n",
    "print(f'total score: {tot_score2}') #Total weight of example"
   ]
  },
  {
   "cell_type": "code",
   "execution_count": 38,
   "id": "9a55eebb",
   "metadata": {
    "ExecuteTime": {
     "end_time": "2021-09-09T01:48:55.460643Z",
     "start_time": "2021-09-09T01:48:55.456140Z"
    }
   },
   "outputs": [
    {
     "name": "stdout",
     "output_type": "stream",
     "text": [
      "total weight: 11\n",
      "total score: 6\n"
     ]
    }
   ],
   "source": [
    "example3 = [0,1,0,1] # the items chosen by an individual at random\n",
    "###\n",
    "example_weights3 = [a * b for a, b in zip(example3, w)]\n",
    "tot_weight3 = sum(example_weights3)\n",
    "print(f'total weight: {tot_weight3}') #Total weight of example\n",
    "##\n",
    "example_score3 = [a * b for a, b in zip(example3, p)]\n",
    "tot_score3 = sum(example_score3)\n",
    "print(f'total score: {tot_score3}') #Total weight of example"
   ]
  },
  {
   "cell_type": "code",
   "execution_count": 39,
   "id": "d82765d5",
   "metadata": {
    "ExecuteTime": {
     "end_time": "2021-09-09T01:48:55.916371Z",
     "start_time": "2021-09-09T01:48:55.913557Z"
    }
   },
   "outputs": [],
   "source": [
    "# If the total weight is greater than the capacity, set the score to 0\n",
    "if tot_weight1 > W:\n",
    "    tot_score1 = 0\n",
    "if tot_weight2 > W:\n",
    "    tot_score2 = 0\n",
    "if tot_weight3 > W:\n",
    "    tot_score2 = 0"
   ]
  },
  {
   "cell_type": "code",
   "execution_count": 40,
   "id": "7580e276",
   "metadata": {
    "ExecuteTime": {
     "end_time": "2021-09-09T01:48:56.677594Z",
     "start_time": "2021-09-09T01:48:56.674139Z"
    }
   },
   "outputs": [
    {
     "data": {
      "text/plain": [
       "(11, 0, 6)"
      ]
     },
     "execution_count": 40,
     "metadata": {},
     "output_type": "execute_result"
    }
   ],
   "source": [
    "tot_score1,tot_score2,tot_score3"
   ]
  },
  {
   "cell_type": "markdown",
   "id": "d7e63dac",
   "metadata": {},
   "source": [
    "### Tournament\n",
    "\n",
    "* Randomly get two pairs of individuals.\n",
    "* From each pair, select the one with the greatest score.\n",
    "* Get the offspring by recombining their item choices\n",
    "* For each position, flip a bit at random (with x% probability)"
   ]
  },
  {
   "cell_type": "markdown",
   "id": "0d851087",
   "metadata": {
    "ExecuteTime": {
     "end_time": "2021-09-09T01:48:25.910639Z",
     "start_time": "2021-09-09T01:48:25.907053Z"
    }
   },
   "source": [
    "### Recombine"
   ]
  },
  {
   "cell_type": "code",
   "execution_count": 43,
   "id": "737e4790",
   "metadata": {
    "ExecuteTime": {
     "end_time": "2021-09-09T01:58:41.644376Z",
     "start_time": "2021-09-09T01:58:41.636623Z"
    }
   },
   "outputs": [
    {
     "data": {
      "text/plain": [
       "([0, 1, 0, 1], [0, 1, 1, 0])"
      ]
     },
     "execution_count": 43,
     "metadata": {},
     "output_type": "execute_result"
    }
   ],
   "source": [
    "offspring1 = example1[:2] + example3[2:]\n",
    "offsprign2 = example3[:2] + example1[2:]\n",
    "offspring1, offsprign2"
   ]
  }
 ],
 "metadata": {
  "kernelspec": {
   "display_name": "Python 3 (ipykernel)",
   "language": "python",
   "name": "python3"
  },
  "language_info": {
   "codemirror_mode": {
    "name": "ipython",
    "version": 3
   },
   "file_extension": ".py",
   "mimetype": "text/x-python",
   "name": "python",
   "nbconvert_exporter": "python",
   "pygments_lexer": "ipython3",
   "version": "3.9.5"
  },
  "varInspector": {
   "cols": {
    "lenName": 16,
    "lenType": 16,
    "lenVar": 40
   },
   "kernels_config": {
    "python": {
     "delete_cmd_postfix": "",
     "delete_cmd_prefix": "del ",
     "library": "var_list.py",
     "varRefreshCmd": "print(var_dic_list())"
    },
    "r": {
     "delete_cmd_postfix": ") ",
     "delete_cmd_prefix": "rm(",
     "library": "var_list.r",
     "varRefreshCmd": "cat(var_dic_list()) "
    }
   },
   "types_to_exclude": [
    "module",
    "function",
    "builtin_function_or_method",
    "instance",
    "_Feature"
   ],
   "window_display": false
  }
 },
 "nbformat": 4,
 "nbformat_minor": 5
}
