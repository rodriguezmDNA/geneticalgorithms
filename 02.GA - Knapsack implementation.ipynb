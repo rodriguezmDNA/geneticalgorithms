{
 "cells": [
  {
   "cell_type": "markdown",
   "id": "f6c3fe63",
   "metadata": {
    "ExecuteTime": {
     "end_time": "2021-09-06T21:16:36.243509Z",
     "start_time": "2021-09-06T21:16:36.237826Z"
    }
   },
   "source": [
    "## The Knapsack Problem & Genetic Algorithms - Computerphile\n",
    "[Source](https://www.youtube.com/watch?v=MacVqujSXWE)"
   ]
  },
  {
   "cell_type": "markdown",
   "id": "0a9db15e",
   "metadata": {},
   "source": [
    "### Maximize profit without going over weight limit"
   ]
  },
  {
   "cell_type": "code",
   "execution_count": 6,
   "id": "7e07e1b2",
   "metadata": {
    "ExecuteTime": {
     "end_time": "2021-09-06T21:24:22.486376Z",
     "start_time": "2021-09-06T21:24:22.480872Z"
    }
   },
   "outputs": [],
   "source": [
    "# # https://www.dataminingapps.com/2017/03/solving-the-knapsack-problem-with-a-simple-genetic-algorithm/\n",
    "# # Define data \n",
    "# p = [6, 5, 8, 9, 6, 7, 3] # Profits \n",
    "# w = [2, 3, 6, 7, 5, 9, 4]# Weights \n",
    "# W = 9 # Knapsack ’s capacity \n",
    "# n = len(p) # Number of items"
   ]
  },
  {
   "cell_type": "code",
   "execution_count": 7,
   "id": "245ff4c2",
   "metadata": {
    "ExecuteTime": {
     "end_time": "2021-09-06T21:26:15.416112Z",
     "start_time": "2021-09-06T21:26:15.411646Z"
    }
   },
   "outputs": [],
   "source": [
    "# Define data \n",
    "p = [5, 4, 7, 2] # Profits \n",
    "w = [7, 2, 1, 9] # Weight \n",
    "W = 15 # Knapsack ’s capacity \n",
    "n = len(p) # Number of items"
   ]
  },
  {
   "cell_type": "code",
   "execution_count": 91,
   "id": "2a865abc",
   "metadata": {
    "ExecuteTime": {
     "end_time": "2021-09-06T21:51:24.178111Z",
     "start_time": "2021-09-06T21:51:23.684378Z"
    }
   },
   "outputs": [],
   "source": [
    "import random\n",
    "import pandas as pd"
   ]
  },
  {
   "cell_type": "code",
   "execution_count": 44,
   "id": "10cd998c",
   "metadata": {
    "ExecuteTime": {
     "end_time": "2021-09-06T21:41:54.671088Z",
     "start_time": "2021-09-06T21:41:54.666073Z"
    }
   },
   "outputs": [],
   "source": [
    "def getWeightOfChoices(seq):\n",
    "    allweights = [a * b for a, b in zip(seq, w)]\n",
    "    return allweights, sum(allweights)\n",
    "\n",
    "def getProfitOfChoices(seq):\n",
    "    allprofits = [a * b for a, b in zip(seq, p)]\n",
    "    return allprofits,sum(allprofits)"
   ]
  },
  {
   "cell_type": "code",
   "execution_count": 70,
   "id": "a2f0fef0",
   "metadata": {
    "ExecuteTime": {
     "end_time": "2021-09-06T21:48:30.843821Z",
     "start_time": "2021-09-06T21:48:30.837486Z"
    }
   },
   "outputs": [],
   "source": [
    "ranPick = lambda: random.sample([0,1],1)[0]\n",
    "def makePopulation(popsize=2,nBits=n):\n",
    "    return [[ranPick() for _ in range(nBits)] for p in range(popsize)]"
   ]
  },
  {
   "cell_type": "code",
   "execution_count": 83,
   "id": "d07d86b7",
   "metadata": {
    "ExecuteTime": {
     "end_time": "2021-09-06T21:50:17.766808Z",
     "start_time": "2021-09-06T21:50:17.761210Z"
    }
   },
   "outputs": [],
   "source": [
    "def getFitness(comb,maxW=W):\n",
    "    _,totalprofit =  getProfitOfChoices(comb)\n",
    "    _,totalweight =  getWeightOfChoices(comb)\n",
    "    if totalweight>maxW:\n",
    "        totalprofit = 0\n",
    "    return totalprofit,totalweight"
   ]
  },
  {
   "cell_type": "code",
   "execution_count": 247,
   "id": "8497f136",
   "metadata": {
    "ExecuteTime": {
     "end_time": "2021-09-06T22:45:10.836660Z",
     "start_time": "2021-09-06T22:45:10.832745Z"
    }
   },
   "outputs": [],
   "source": [
    "popsize = 8\n",
    "population = makePopulation(popsize)"
   ]
  },
  {
   "cell_type": "markdown",
   "id": "bee263af",
   "metadata": {
    "ExecuteTime": {
     "end_time": "2021-09-06T21:49:33.988524Z",
     "start_time": "2021-09-06T21:49:33.983935Z"
    }
   },
   "source": [
    "### Get fitness of population"
   ]
  },
  {
   "cell_type": "code",
   "execution_count": 284,
   "id": "428b07fb",
   "metadata": {
    "ExecuteTime": {
     "end_time": "2021-09-06T22:54:01.622462Z",
     "start_time": "2021-09-06T22:54:01.616389Z"
    }
   },
   "outputs": [],
   "source": [
    "def fitnessOfPopulation(population):\n",
    "    fitnessXpopulation = [getFitness(ind) for ind in population]\n",
    "    fitnessDF = pd.DataFrame(fitnessXpopulation,columns=['score','weight'])\n",
    "    fitnessDF['solution'] = population\n",
    "    return fitnessDF, fitnessDF.score.mean(),fitnessDF.weight.mean()"
   ]
  },
  {
   "cell_type": "markdown",
   "id": "d21284d7",
   "metadata": {
    "ExecuteTime": {
     "end_time": "2021-09-06T21:52:25.804679Z",
     "start_time": "2021-09-06T21:52:25.791977Z"
    }
   },
   "source": [
    "### Selection (tournament)\n"
   ]
  },
  {
   "cell_type": "code",
   "execution_count": 238,
   "id": "f4802bc9",
   "metadata": {
    "ExecuteTime": {
     "end_time": "2021-09-06T22:42:33.682775Z",
     "start_time": "2021-09-06T22:42:33.669550Z"
    }
   },
   "outputs": [],
   "source": [
    "def selectParents(population):\n",
    "    '''\n",
    "    Select 2 pairs of parents at random\n",
    "    '''\n",
    "    population_copy = population.copy()\n",
    "    random.shuffle(population_copy)\n",
    "    a = population_copy.pop()\n",
    "    random.shuffle(population_copy)\n",
    "    b = population_copy.pop()\n",
    "    random.shuffle(population_copy)\n",
    "    x = population_copy.pop()\n",
    "    random.shuffle(population_copy)\n",
    "    y = population_copy.pop()\n",
    "    return a,b,x,y\n",
    "\n",
    "def getWiningParents(a,b,x,y):\n",
    "    a_score,b_score,x_score,y_score = [getFitness(_)[0] for _ in [a,b,x,y]]\n",
    "    ###\n",
    "    winnerA =  a if a_score > b_score else b\n",
    "    winnerX =  x if x_score > y_score else y\n",
    "    return winnerA,winnerX    \n",
    "\n",
    "def recombine(winnerA,winnerX,point=int(n/2)):\n",
    "    offspringA = winnerA[:point]+winnerX[point:]\n",
    "    offspringB = winnerX[:point]+winnerA[point:]\n",
    "    return offspringA,offspringB\n",
    "\n",
    "tosscoin = lambda: random.uniform(0,1)\n",
    "mutationrate = .05\n",
    "def flipbit(bit):\n",
    "    return 1 if bit==0 else 0\n",
    "\n",
    "def mutationProcess(bit):\n",
    "    if tosscoin() <= mutationrate:\n",
    "        return flipbit(bit)\n",
    "    else:\n",
    "        return bit\n",
    "    \n",
    "mutateOffspring = lambda child: [mutationProcess(_) for _ in child]    \n",
    "\n",
    "def mutateChildren(A,B):\n",
    "    childANew = mutateOffspring(A)\n",
    "    childBNew = mutateOffspring(B)\n",
    "    return childANew,childBNew"
   ]
  },
  {
   "cell_type": "code",
   "execution_count": 273,
   "id": "3f1e955c",
   "metadata": {
    "ExecuteTime": {
     "end_time": "2021-09-06T22:50:08.689164Z",
     "start_time": "2021-09-06T22:50:08.683793Z"
    }
   },
   "outputs": [],
   "source": [
    "def getOffspring(population):\n",
    "    a,b,x,y = selectParents(population)\n",
    "    winnerA,winnerX  = getWiningParents(a,b,x,y)\n",
    "    offspringA,offspringB = recombine(winnerA,winnerX)\n",
    "    childANew,childBNew = mutateChildren(offspringA,offspringB)\n",
    "    return childANew,childBNew"
   ]
  },
  {
   "cell_type": "code",
   "execution_count": 274,
   "id": "46780bff",
   "metadata": {
    "ExecuteTime": {
     "end_time": "2021-09-06T22:50:11.723654Z",
     "start_time": "2021-09-06T22:50:11.718526Z"
    }
   },
   "outputs": [],
   "source": [
    "def getNewGeneration(population):\n",
    "    newgen = []\n",
    "    while len(newgen) < popsize:\n",
    "        childANew,childBNew = getOffspring(population)\n",
    "        newgen.append([childANew,childBNew])\n",
    "    newgen = sum(newgen,[])\n",
    "    return newgen"
   ]
  },
  {
   "cell_type": "code",
   "execution_count": 266,
   "id": "18cca2b3",
   "metadata": {
    "ExecuteTime": {
     "end_time": "2021-09-06T22:49:05.638578Z",
     "start_time": "2021-09-06T22:49:05.629710Z"
    }
   },
   "outputs": [
    {
     "data": {
      "text/plain": [
       "8.375"
      ]
     },
     "execution_count": 266,
     "metadata": {},
     "output_type": "execute_result"
    }
   ],
   "source": []
  },
  {
   "cell_type": "code",
   "execution_count": 276,
   "id": "236ba582",
   "metadata": {
    "ExecuteTime": {
     "end_time": "2021-09-06T22:50:33.939458Z",
     "start_time": "2021-09-06T22:50:33.929759Z"
    }
   },
   "outputs": [
    {
     "data": {
      "text/plain": [
       "5.9375"
      ]
     },
     "execution_count": 276,
     "metadata": {},
     "output_type": "execute_result"
    }
   ],
   "source": [
    "## First generation\n",
    "newpop = getNewGeneration(population)\n",
    "popDF, avgFit = fitnessOfPopulation(newpop) \n",
    "avgFit"
   ]
  },
  {
   "cell_type": "code",
   "execution_count": 278,
   "id": "266f4063",
   "metadata": {
    "ExecuteTime": {
     "end_time": "2021-09-06T22:50:52.925707Z",
     "start_time": "2021-09-06T22:50:52.915715Z"
    }
   },
   "outputs": [
    {
     "data": {
      "text/plain": [
       "9.3125"
      ]
     },
     "execution_count": 278,
     "metadata": {},
     "output_type": "execute_result"
    }
   ],
   "source": [
    "## First generation\n",
    "newpop = getNewGeneration(newpop)\n",
    "popDF, avgFit = fitnessOfPopulation(newpop) \n",
    "avgFit"
   ]
  },
  {
   "cell_type": "code",
   "execution_count": 301,
   "id": "3cad5879",
   "metadata": {
    "ExecuteTime": {
     "end_time": "2021-09-06T22:56:26.152692Z",
     "start_time": "2021-09-06T22:56:24.599259Z"
    }
   },
   "outputs": [],
   "source": [
    "popDF = dict()\n",
    "avgWeight = dict()\n",
    "avgFit = dict()\n",
    "popDF[0], avgFit[0],avgWeight[0]=fitnessOfPopulation(population) \n",
    "newpop = getNewGeneration(newpop)\n",
    "for gen in range(1,1000):\n",
    "    newpop = getNewGeneration(newpop)\n",
    "    popDF[gen], avgFit[gen],avgWeight[gen]=fitnessOfPopulation(newpop) \n",
    "    popDF[gen] = popDF[gen].sort_values('score',ascending=False).reset_index(drop=True)"
   ]
  },
  {
   "cell_type": "code",
   "execution_count": 302,
   "id": "9f96b526",
   "metadata": {
    "ExecuteTime": {
     "end_time": "2021-09-06T22:56:31.155621Z",
     "start_time": "2021-09-06T22:56:31.151560Z"
    }
   },
   "outputs": [
    {
     "data": {
      "text/plain": [
       "16.0"
      ]
     },
     "execution_count": 302,
     "metadata": {},
     "output_type": "execute_result"
    }
   ],
   "source": [
    "avgFit[gen]"
   ]
  },
  {
   "cell_type": "code",
   "execution_count": 303,
   "id": "0ee3b225",
   "metadata": {
    "ExecuteTime": {
     "end_time": "2021-09-06T22:56:36.044833Z",
     "start_time": "2021-09-06T22:56:36.033979Z"
    }
   },
   "outputs": [
    {
     "data": {
      "text/html": [
       "<div>\n",
       "<style scoped>\n",
       "    .dataframe tbody tr th:only-of-type {\n",
       "        vertical-align: middle;\n",
       "    }\n",
       "\n",
       "    .dataframe tbody tr th {\n",
       "        vertical-align: top;\n",
       "    }\n",
       "\n",
       "    .dataframe thead th {\n",
       "        text-align: right;\n",
       "    }\n",
       "</style>\n",
       "<table border=\"1\" class=\"dataframe\">\n",
       "  <thead>\n",
       "    <tr style=\"text-align: right;\">\n",
       "      <th></th>\n",
       "      <th>score</th>\n",
       "      <th>weight</th>\n",
       "      <th>solution</th>\n",
       "    </tr>\n",
       "  </thead>\n",
       "  <tbody>\n",
       "    <tr>\n",
       "      <th>0</th>\n",
       "      <td>16</td>\n",
       "      <td>10</td>\n",
       "      <td>[1, 1, 1, 0]</td>\n",
       "    </tr>\n",
       "    <tr>\n",
       "      <th>1</th>\n",
       "      <td>16</td>\n",
       "      <td>10</td>\n",
       "      <td>[1, 1, 1, 0]</td>\n",
       "    </tr>\n",
       "    <tr>\n",
       "      <th>2</th>\n",
       "      <td>16</td>\n",
       "      <td>10</td>\n",
       "      <td>[1, 1, 1, 0]</td>\n",
       "    </tr>\n",
       "    <tr>\n",
       "      <th>3</th>\n",
       "      <td>16</td>\n",
       "      <td>10</td>\n",
       "      <td>[1, 1, 1, 0]</td>\n",
       "    </tr>\n",
       "    <tr>\n",
       "      <th>4</th>\n",
       "      <td>16</td>\n",
       "      <td>10</td>\n",
       "      <td>[1, 1, 1, 0]</td>\n",
       "    </tr>\n",
       "    <tr>\n",
       "      <th>5</th>\n",
       "      <td>16</td>\n",
       "      <td>10</td>\n",
       "      <td>[1, 1, 1, 0]</td>\n",
       "    </tr>\n",
       "    <tr>\n",
       "      <th>6</th>\n",
       "      <td>16</td>\n",
       "      <td>10</td>\n",
       "      <td>[1, 1, 1, 0]</td>\n",
       "    </tr>\n",
       "    <tr>\n",
       "      <th>7</th>\n",
       "      <td>16</td>\n",
       "      <td>10</td>\n",
       "      <td>[1, 1, 1, 0]</td>\n",
       "    </tr>\n",
       "    <tr>\n",
       "      <th>8</th>\n",
       "      <td>16</td>\n",
       "      <td>10</td>\n",
       "      <td>[1, 1, 1, 0]</td>\n",
       "    </tr>\n",
       "    <tr>\n",
       "      <th>9</th>\n",
       "      <td>16</td>\n",
       "      <td>10</td>\n",
       "      <td>[1, 1, 1, 0]</td>\n",
       "    </tr>\n",
       "    <tr>\n",
       "      <th>10</th>\n",
       "      <td>16</td>\n",
       "      <td>10</td>\n",
       "      <td>[1, 1, 1, 0]</td>\n",
       "    </tr>\n",
       "    <tr>\n",
       "      <th>11</th>\n",
       "      <td>16</td>\n",
       "      <td>10</td>\n",
       "      <td>[1, 1, 1, 0]</td>\n",
       "    </tr>\n",
       "    <tr>\n",
       "      <th>12</th>\n",
       "      <td>16</td>\n",
       "      <td>10</td>\n",
       "      <td>[1, 1, 1, 0]</td>\n",
       "    </tr>\n",
       "    <tr>\n",
       "      <th>13</th>\n",
       "      <td>9</td>\n",
       "      <td>9</td>\n",
       "      <td>[1, 1, 0, 0]</td>\n",
       "    </tr>\n",
       "    <tr>\n",
       "      <th>14</th>\n",
       "      <td>0</td>\n",
       "      <td>19</td>\n",
       "      <td>[1, 1, 1, 1]</td>\n",
       "    </tr>\n",
       "    <tr>\n",
       "      <th>15</th>\n",
       "      <td>0</td>\n",
       "      <td>19</td>\n",
       "      <td>[1, 1, 1, 1]</td>\n",
       "    </tr>\n",
       "  </tbody>\n",
       "</table>\n",
       "</div>"
      ],
      "text/plain": [
       "    score  weight      solution\n",
       "0      16      10  [1, 1, 1, 0]\n",
       "1      16      10  [1, 1, 1, 0]\n",
       "2      16      10  [1, 1, 1, 0]\n",
       "3      16      10  [1, 1, 1, 0]\n",
       "4      16      10  [1, 1, 1, 0]\n",
       "5      16      10  [1, 1, 1, 0]\n",
       "6      16      10  [1, 1, 1, 0]\n",
       "7      16      10  [1, 1, 1, 0]\n",
       "8      16      10  [1, 1, 1, 0]\n",
       "9      16      10  [1, 1, 1, 0]\n",
       "10     16      10  [1, 1, 1, 0]\n",
       "11     16      10  [1, 1, 1, 0]\n",
       "12     16      10  [1, 1, 1, 0]\n",
       "13      9       9  [1, 1, 0, 0]\n",
       "14      0      19  [1, 1, 1, 1]\n",
       "15      0      19  [1, 1, 1, 1]"
      ]
     },
     "execution_count": 303,
     "metadata": {},
     "output_type": "execute_result"
    }
   ],
   "source": [
    "popDF[99]"
   ]
  },
  {
   "cell_type": "code",
   "execution_count": null,
   "id": "339ea4b6",
   "metadata": {},
   "outputs": [],
   "source": []
  }
 ],
 "metadata": {
  "kernelspec": {
   "display_name": "Python 3 (ipykernel)",
   "language": "python",
   "name": "python3"
  },
  "language_info": {
   "codemirror_mode": {
    "name": "ipython",
    "version": 3
   },
   "file_extension": ".py",
   "mimetype": "text/x-python",
   "name": "python",
   "nbconvert_exporter": "python",
   "pygments_lexer": "ipython3",
   "version": "3.9.5"
  },
  "varInspector": {
   "cols": {
    "lenName": 16,
    "lenType": 16,
    "lenVar": 40
   },
   "kernels_config": {
    "python": {
     "delete_cmd_postfix": "",
     "delete_cmd_prefix": "del ",
     "library": "var_list.py",
     "varRefreshCmd": "print(var_dic_list())"
    },
    "r": {
     "delete_cmd_postfix": ") ",
     "delete_cmd_prefix": "rm(",
     "library": "var_list.r",
     "varRefreshCmd": "cat(var_dic_list()) "
    }
   },
   "types_to_exclude": [
    "module",
    "function",
    "builtin_function_or_method",
    "instance",
    "_Feature"
   ],
   "window_display": false
  }
 },
 "nbformat": 4,
 "nbformat_minor": 5
}
